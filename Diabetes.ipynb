{
 "cells": [
  {
   "cell_type": "code",
   "execution_count": 1,
   "id": "ce2b9c3e",
   "metadata": {},
   "outputs": [],
   "source": [
    "from pandas import read_csv\n",
    "import pandas as pd\n",
    "import numpy as np\n",
    "from sklearn.model_selection import KFold\n",
    "from sklearn.neighbors import KNeighborsClassifier\n",
    "from sklearn.model_selection import train_test_split\n",
    "from sklearn.model_selection import cross_val_score\n",
    "from sklearn.preprocessing import MinMaxScaler\n",
    "from sklearn.metrics import accuracy_score\n",
    "import warnings\n",
    "warnings.filterwarnings('ignore')"
   ]
  },
  {
   "cell_type": "code",
   "execution_count": 2,
   "id": "fe6c7fd0",
   "metadata": {},
   "outputs": [],
   "source": [
    "#load data\n",
    "data=read_csv(\"diabetes.csv\")"
   ]
  },
  {
   "cell_type": "code",
   "execution_count": 3,
   "id": "a35530dc",
   "metadata": {},
   "outputs": [
    {
     "data": {
      "text/html": [
       "<div>\n",
       "<style scoped>\n",
       "    .dataframe tbody tr th:only-of-type {\n",
       "        vertical-align: middle;\n",
       "    }\n",
       "\n",
       "    .dataframe tbody tr th {\n",
       "        vertical-align: top;\n",
       "    }\n",
       "\n",
       "    .dataframe thead th {\n",
       "        text-align: right;\n",
       "    }\n",
       "</style>\n",
       "<table border=\"1\" class=\"dataframe\">\n",
       "  <thead>\n",
       "    <tr style=\"text-align: right;\">\n",
       "      <th></th>\n",
       "      <th>preg</th>\n",
       "      <th>plas</th>\n",
       "      <th>pres</th>\n",
       "      <th>skin</th>\n",
       "      <th>test</th>\n",
       "      <th>mass</th>\n",
       "      <th>pedi</th>\n",
       "      <th>age</th>\n",
       "      <th>class</th>\n",
       "    </tr>\n",
       "  </thead>\n",
       "  <tbody>\n",
       "    <tr>\n",
       "      <th>0</th>\n",
       "      <td>6</td>\n",
       "      <td>148</td>\n",
       "      <td>72</td>\n",
       "      <td>35</td>\n",
       "      <td>0</td>\n",
       "      <td>33.6</td>\n",
       "      <td>0.627</td>\n",
       "      <td>50</td>\n",
       "      <td>1</td>\n",
       "    </tr>\n",
       "    <tr>\n",
       "      <th>1</th>\n",
       "      <td>1</td>\n",
       "      <td>85</td>\n",
       "      <td>66</td>\n",
       "      <td>29</td>\n",
       "      <td>0</td>\n",
       "      <td>26.6</td>\n",
       "      <td>0.351</td>\n",
       "      <td>31</td>\n",
       "      <td>0</td>\n",
       "    </tr>\n",
       "    <tr>\n",
       "      <th>2</th>\n",
       "      <td>8</td>\n",
       "      <td>183</td>\n",
       "      <td>64</td>\n",
       "      <td>0</td>\n",
       "      <td>0</td>\n",
       "      <td>23.3</td>\n",
       "      <td>0.672</td>\n",
       "      <td>32</td>\n",
       "      <td>1</td>\n",
       "    </tr>\n",
       "    <tr>\n",
       "      <th>3</th>\n",
       "      <td>1</td>\n",
       "      <td>89</td>\n",
       "      <td>66</td>\n",
       "      <td>23</td>\n",
       "      <td>94</td>\n",
       "      <td>28.1</td>\n",
       "      <td>0.167</td>\n",
       "      <td>21</td>\n",
       "      <td>0</td>\n",
       "    </tr>\n",
       "  </tbody>\n",
       "</table>\n",
       "</div>"
      ],
      "text/plain": [
       "   preg  plas  pres  skin  test  mass   pedi  age  class\n",
       "0     6   148    72    35     0  33.6  0.627   50      1\n",
       "1     1    85    66    29     0  26.6  0.351   31      0\n",
       "2     8   183    64     0     0  23.3  0.672   32      1\n",
       "3     1    89    66    23    94  28.1  0.167   21      0"
      ]
     },
     "execution_count": 3,
     "metadata": {},
     "output_type": "execute_result"
    }
   ],
   "source": [
    "data.head(4)"
   ]
  },
  {
   "cell_type": "code",
   "execution_count": 4,
   "id": "a3b4f480",
   "metadata": {},
   "outputs": [],
   "source": [
    "array = data.values\n",
    "X = array[:, 0:-1]\n",
    "Y = array[:, -1]\n"
   ]
  },
  {
   "cell_type": "code",
   "execution_count": 5,
   "id": "a9b0c7fa",
   "metadata": {},
   "outputs": [],
   "source": [
    "#data train and transform\n",
    "scaler = MinMaxScaler()\n",
    "scaler.fit(X)\n",
    "\n",
    "X=scaler.transform(X)"
   ]
  },
  {
   "cell_type": "code",
   "execution_count": 6,
   "id": "f6bfa83a",
   "metadata": {},
   "outputs": [],
   "source": [
    "#train test split\n",
    "x_train,x_test,y_train,y_test=train_test_split(X,Y,test_size=0.2)"
   ]
  },
  {
   "cell_type": "markdown",
   "id": "b54167a4",
   "metadata": {},
   "source": [
    "# choose the best value of k"
   ]
  },
  {
   "cell_type": "code",
   "execution_count": 7,
   "id": "f1e1bd9a",
   "metadata": {},
   "outputs": [
    {
     "data": {
      "image/png": "[encoded data removed]",
      "text/plain": [
       "<Figure size 640x480 with 1 Axes>"
      ]
     },
     "metadata": {},
     "output_type": "display_data"
    }
   ],
   "source": [
    "import matplotlib.pyplot as plt \n",
    "%matplotlib inline\n",
    "# choose k between 1 to 41\n",
    "k_range = [2*i+1 for i in range(0,20)]\n",
    "k_scores = []\n",
    "# use iteration to caclulator different k in models, then return the average accuracy based on the cross validation\n",
    "for k in k_range:\n",
    "    knn = KNeighborsClassifier(n_neighbors=k)\n",
    "    scores = cross_val_score(knn, x_train, y_train, cv=10)\n",
    "    k_scores.append(scores.mean())\n",
    "# plot to see clearly\n",
    "plt.bar(k_range, k_scores)\n",
    "plt.plot(k_range, k_scores,color=\"red\")\n",
    "\n",
    "plt.xlabel('Value of K for KNN')\n",
    "plt.ylabel('Cross-Validated Accuracy')\n",
    "plt.xticks(k_range)\n",
    "plt.show()"
   ]
  },
  {
   "cell_type": "code",
   "execution_count": 8,
   "id": "737251ca",
   "metadata": {},
   "outputs": [
    {
     "data": {
      "text/html": [
       "<div>\n",
       "<style scoped>\n",
       "    .dataframe tbody tr th:only-of-type {\n",
       "        vertical-align: middle;\n",
       "    }\n",
       "\n",
       "    .dataframe tbody tr th {\n",
       "        vertical-align: top;\n",
       "    }\n",
       "\n",
       "    .dataframe thead th {\n",
       "        text-align: right;\n",
       "    }\n",
       "</style>\n",
       "<table border=\"1\" class=\"dataframe\">\n",
       "  <thead>\n",
       "    <tr style=\"text-align: right;\">\n",
       "      <th></th>\n",
       "      <th>K_values</th>\n",
       "      <th>Scores</th>\n",
       "    </tr>\n",
       "  </thead>\n",
       "  <tbody>\n",
       "    <tr>\n",
       "      <th>11</th>\n",
       "      <td>23</td>\n",
       "      <td>0.752485</td>\n",
       "    </tr>\n",
       "    <tr>\n",
       "      <th>14</th>\n",
       "      <td>29</td>\n",
       "      <td>0.749313</td>\n",
       "    </tr>\n",
       "    <tr>\n",
       "      <th>19</th>\n",
       "      <td>39</td>\n",
       "      <td>0.747673</td>\n",
       "    </tr>\n",
       "    <tr>\n",
       "      <th>10</th>\n",
       "      <td>21</td>\n",
       "      <td>0.747620</td>\n",
       "    </tr>\n",
       "    <tr>\n",
       "      <th>9</th>\n",
       "      <td>19</td>\n",
       "      <td>0.745955</td>\n",
       "    </tr>\n",
       "    <tr>\n",
       "      <th>13</th>\n",
       "      <td>27</td>\n",
       "      <td>0.744342</td>\n",
       "    </tr>\n",
       "    <tr>\n",
       "      <th>12</th>\n",
       "      <td>25</td>\n",
       "      <td>0.742755</td>\n",
       "    </tr>\n",
       "    <tr>\n",
       "      <th>18</th>\n",
       "      <td>37</td>\n",
       "      <td>0.741116</td>\n",
       "    </tr>\n",
       "    <tr>\n",
       "      <th>2</th>\n",
       "      <td>5</td>\n",
       "      <td>0.739556</td>\n",
       "    </tr>\n",
       "    <tr>\n",
       "      <th>15</th>\n",
       "      <td>31</td>\n",
       "      <td>0.739529</td>\n",
       "    </tr>\n",
       "    <tr>\n",
       "      <th>8</th>\n",
       "      <td>17</td>\n",
       "      <td>0.739450</td>\n",
       "    </tr>\n",
       "    <tr>\n",
       "      <th>17</th>\n",
       "      <td>35</td>\n",
       "      <td>0.739397</td>\n",
       "    </tr>\n",
       "    <tr>\n",
       "      <th>7</th>\n",
       "      <td>15</td>\n",
       "      <td>0.734638</td>\n",
       "    </tr>\n",
       "    <tr>\n",
       "      <th>16</th>\n",
       "      <td>33</td>\n",
       "      <td>0.732946</td>\n",
       "    </tr>\n",
       "    <tr>\n",
       "      <th>3</th>\n",
       "      <td>7</td>\n",
       "      <td>0.726547</td>\n",
       "    </tr>\n",
       "    <tr>\n",
       "      <th>5</th>\n",
       "      <td>11</td>\n",
       "      <td>0.724802</td>\n",
       "    </tr>\n",
       "    <tr>\n",
       "      <th>6</th>\n",
       "      <td>13</td>\n",
       "      <td>0.721602</td>\n",
       "    </tr>\n",
       "    <tr>\n",
       "      <th>1</th>\n",
       "      <td>3</td>\n",
       "      <td>0.715230</td>\n",
       "    </tr>\n",
       "    <tr>\n",
       "      <th>4</th>\n",
       "      <td>9</td>\n",
       "      <td>0.711925</td>\n",
       "    </tr>\n",
       "    <tr>\n",
       "      <th>0</th>\n",
       "      <td>1</td>\n",
       "      <td>0.671179</td>\n",
       "    </tr>\n",
       "  </tbody>\n",
       "</table>\n",
       "</div>"
      ],
      "text/plain": [
       "    K_values    Scores\n",
       "11        23  0.752485\n",
       "14        29  0.749313\n",
       "19        39  0.747673\n",
       "10        21  0.747620\n",
       "9         19  0.745955\n",
       "13        27  0.744342\n",
       "12        25  0.742755\n",
       "18        37  0.741116\n",
       "2          5  0.739556\n",
       "15        31  0.739529\n",
       "8         17  0.739450\n",
       "17        35  0.739397\n",
       "7         15  0.734638\n",
       "16        33  0.732946\n",
       "3          7  0.726547\n",
       "5         11  0.724802\n",
       "6         13  0.721602\n",
       "1          3  0.715230\n",
       "4          9  0.711925\n",
       "0          1  0.671179"
      ]
     },
     "execution_count": 8,
     "metadata": {},
     "output_type": "execute_result"
    }
   ],
   "source": [
    "#making dataframe and alloting values\n",
    "scores=pd.DataFrame()\n",
    "scores[\"K_values\"]=k_range\n",
    "scores[\"Scores\"]=k_scores\n",
    "scores.sort_values([\"Scores\"],ascending=False)"
   ]
  },
  {
   "cell_type": "markdown",
   "id": "39756de9",
   "metadata": {},
   "source": [
    "# build final model"
   ]
  },
  {
   "cell_type": "code",
   "execution_count": 9,
   "id": "c64258d2",
   "metadata": {},
   "outputs": [
    {
     "data": {
      "text/plain": [
       "0.7337662337662337"
      ]
     },
     "execution_count": 9,
     "metadata": {},
     "output_type": "execute_result"
    }
   ],
   "source": [
    "knn = KNeighborsClassifier(n_neighbors=23)\n",
    "knn.fit(x_train,y_train)\n",
    "pred=knn.predict(x_test)\n",
    "accuracy_score(y_test,pred)"
   ]
  },
  {
   "cell_type": "code",
   "execution_count": 10,
   "id": "8647712d",
   "metadata": {},
   "outputs": [],
   "source": [
    "from pickle import dump\n",
    "from pickle import load\n",
    "\n",
    "dump(knn, open('knn.sav', 'wb'))"
   ]
  },
  {
   "cell_type": "code",
   "execution_count": 11,
   "id": "f57cb808",
   "metadata": {},
   "outputs": [
    {
     "name": "stdout",
     "output_type": "stream",
     "text": [
      "0.7630208333333334\n"
     ]
    }
   ],
   "source": [
    "loaded_model = load(open('knn.sav', 'rb'))\n",
    "result = loaded_model.score(X, Y)\n",
    "print(result)"
   ]
  },
  {
   "cell_type": "code",
   "execution_count": 12,
   "id": "4f5902d6",
   "metadata": {},
   "outputs": [
    {
     "name": "stdout",
     "output_type": "stream",
     "text": [
      " Volume in drive C is Windows\n",
      " Volume Serial Number is C23B-E0ED\n",
      "\n",
      " Directory of C:\\Users\\Harsha S\n",
      "\n",
      "07-02-2023  14:52    <DIR>          .\n",
      "14-11-2022  21:04    <DIR>          ..\n",
      "07-02-2023  14:52    <DIR>          .conda\n",
      "14-11-2022  12:35                25 .condarc\n",
      "14-11-2022  20:11    <DIR>          .continuum\n",
      "31-12-2022  22:07    <DIR>          .cufflinks\n",
      "07-02-2023  14:51    <DIR>          .ipynb_checkpoints\n",
      "14-11-2022  20:12    <DIR>          .ipython\n",
      "16-11-2022  11:12    <DIR>          .jupyter\n",
      "25-01-2023  12:56    <DIR>          .keras\n",
      "16-11-2022  11:21    <DIR>          .matplotlib\n",
      "30-12-2022  11:55    <DIR>          .ms-ad\n",
      "02-02-2023  13:31    <DIR>          .streamlit\n",
      "02-02-2023  11:25    <DIR>          .vscode\n",
      "06-02-2023  10:36           864,897 50_Startups.ipynb\n",
      "02-02-2023  13:39           337,439 airfoil_self_noise.ipynb\n",
      "02-02-2023  13:26             2,023 appupdated.py\n",
      "06-02-2023  10:53         1,309,720 Assignment_14.1.ipynb\n",
      "06-02-2023  10:53         1,036,645 Assignment_14.2.ipynb\n",
      "06-02-2023  10:53            97,353 Assignment_15.1.ipynb\n",
      "06-02-2023  10:53            86,345 Assignment_15.2.ipynb\n",
      "06-02-2023  10:53           488,590 Assignment_16.1.ipynb\n",
      "06-02-2023  10:53           136,850 Assignment_16.2.ipynb\n",
      "06-02-2023  10:53            90,870 Assignment_17.1.ipynb\n",
      "06-02-2023  10:53            60,817 Assignment_17.2.ipynb\n",
      "06-02-2023  10:53           212,073 Assignment_18.1.ipynb\n",
      "06-02-2023  10:53           185,647 Assignment_18.2.ipynb\n",
      "03-02-2023  10:31            38,990 Assignment_3(Code).ipynb\n",
      "06-02-2023  12:03           198,678 Association rule Assignment.ipynb\n",
      "06-02-2023  12:06            94,489 Assosiation Rules (my_movies).ipynb\n",
      "06-02-2023  12:06            87,426 Assosiation Rules 2.ipynb\n",
      "15-12-2022  11:58           461,474 bank.csv\n",
      "27-01-2023  11:27                73 checkpoint\n",
      "06-02-2023  11:39            90,711 Clustering (Hierarchical Clustering) .ipynb\n",
      "06-02-2023  11:13           194,473 Clustering (K-Means Clustering ).ipynb\n",
      "06-02-2023  11:24           130,112 Clustering Assignment.ipynb\n",
      "17-01-2023  13:02           127,771 clustering.ipynb\n",
      "14-11-2022  21:08    <DIR>          Contacts\n",
      "27-01-2023  13:23           120,366 credit_data.ipynb\n",
      "30-01-2023  12:05         3,230,433 Decision_tree_company_data.ipynb\n",
      "30-01-2023  12:05           410,534 Decision_tree_Fraud_check.ipynb\n",
      "11-01-2023  13:34         1,489,568 Desicion tree (Diabities).ipynb\n",
      "02-02-2023  13:26            23,238 diabetes.csv\n",
      "07-02-2023  14:52            44,927 Diabetes.ipynb\n",
      "11-11-2022  15:40    <DIR>          Documents\n",
      "06-02-2023  13:07    <DIR>          Downloads\n",
      "23-10-2022  21:57    <DIR>          Dropbox\n",
      "14-11-2022  21:08    <DIR>          Favorites\n",
      "03-02-2023  13:23             9,197 footfalls.csv\n",
      "03-02-2023  13:25         1,319,783 Forecasting_Data Driven Models-Copy2.ipynb\n",
      "16-01-2023  13:52            34,046 Harsha.ipynb\n",
      "03-02-2023  10:40            27,617 Hypothesis_Testing_Assignment.ipynb\n",
      "06-02-2023  13:05            77,313 KNN(glass).ipynb\n",
      "06-02-2023  13:06            98,843 KNN(zoo).ipynb\n",
      "07-02-2023  14:52            52,784 knn.sav\n",
      "14-11-2022  21:08    <DIR>          Links\n",
      "06-02-2023  10:45           140,506 Logistic Regression.ipynb\n",
      "02-02-2023  12:20         8,175,980 model.pkl\n",
      "14-11-2022  21:08    <DIR>          Music\n",
      "27-01-2023  11:27             8,563 mywt.kmw.data-00000-of-00001\n",
      "27-01-2023  11:27             1,940 mywt.kmw.index\n",
      "06-02-2023  12:57           308,015 Naive Bayes .ipynb\n",
      "27-01-2023  13:18           132,353 Neural Network_Back Propagation.ipynb\n",
      "06-01-2023  13:09            17,781 NLP.ipynb\n",
      "07-02-2023  07:53    <DIR>          OneDrive\n",
      "13-12-2022  09:32            45,356 Pandas_Introduction.ipynb\n",
      "18-12-2022  20:03           150,774 pandas-day 1.ipynb\n",
      "06-02-2023  11:45           266,635 PCA.ipynb\n",
      "02-02-2023  13:26            23,279 pima-indians-diabetes.data (2).csv\n",
      "02-02-2023  12:03    <DIR>          Postman\n",
      "31-12-2022  22:15             1,377 problem statement(company data) (1).txt\n",
      "31-12-2022  22:15         2,704,216 Q.1_DecisionTree_Company.ipynb\n",
      "06-02-2023  12:12           139,016 Recommendation Systems.ipynb\n",
      "11-01-2023  16:40             1,356 Resume sorting.ipynb\n",
      "14-11-2022  21:08    <DIR>          Saved Games\n",
      "17-01-2023  12:20    <DIR>          seaborn-data\n",
      "14-11-2022  21:08    <DIR>          Searches\n",
      "06-02-2023  09:48           267,167 simple_linear_regression.ipynb\n",
      "16-01-2023  11:36           581,225 SQL+PYTHON 3.ipynb\n",
      "05-01-2023  12:55             7,041 SVM .ipynb\n",
      "06-02-2023  12:39         4,843,398 Text Mining .ipynb\n",
      "06-02-2023  10:36         2,606,477 ToyotaCorolla.ipynb\n",
      "14-11-2022  19:55             8,047 Untitled.ipynb\n",
      "02-02-2023  11:13                 0 untitled.txt\n",
      "14-11-2022  20:41             2,109 Untitled1.ipynb\n",
      "27-12-2022  13:56           411,519 Untitled10.ipynb\n",
      "31-12-2022  21:49               589 Untitled11.ipynb\n",
      "31-12-2022  22:02               589 Untitled12.ipynb\n",
      "05-01-2023  13:03             5,060 Untitled13.ipynb\n",
      "12-01-2023  11:51             9,313 Untitled14.ipynb\n",
      "16-01-2023  11:15             2,180 Untitled15.ipynb\n",
      "18-01-2023  11:41               589 Untitled16.ipynb\n",
      "26-01-2023  21:52            15,750 Untitled17.ipynb\n",
      "03-02-2023  11:21               967 Untitled18.ipynb\n",
      "17-11-2022  11:00            17,618 Untitled2.ipynb\n",
      "22-11-2022  13:18             9,945 Untitled3.ipynb\n",
      "28-11-2022  12:26               589 Untitled4.ipynb\n",
      "29-11-2022  11:16               589 Untitled5.ipynb\n",
      "29-11-2022  13:08               589 Untitled6.ipynb\n",
      "13-12-2022  09:27               649 Untitled7.ipynb\n",
      "16-12-2022  10:13             8,564 Untitled8.ipynb\n",
      "31-12-2022  22:10            77,468 Untitled9.ipynb\n",
      "14-11-2022  21:08    <DIR>          Videos\n",
      "              77 File(s)     34,267,318 bytes\n",
      "              26 Dir(s)  204,162,478,080 bytes free\n"
     ]
    }
   ],
   "source": [
    "ls\n"
   ]
  },
  {
   "cell_type": "markdown",
   "id": "e0f9e56d",
   "metadata": {},
   "source": [
    "# deploy the model"
   ]
  },
  {
   "cell_type": "code",
   "execution_count": 13,
   "id": "e62d22f7",
   "metadata": {
    "scrolled": true
   },
   "outputs": [
    {
     "name": "stdout",
     "output_type": "stream",
     "text": [
      "^C\n"
     ]
    }
   ],
   "source": [
    "!streamlit run appupdated.py"
   ]
  },
  {
   "cell_type": "code",
   "execution_count": 14,
   "id": "75eb72e0",
   "metadata": {},
   "outputs": [
    {
     "name": "stdout",
     "output_type": "stream",
     "text": [
      "Requirement already satisfied: streamlit in c:\\annaconda\\lib\\site-packages (1.17.0)\n",
      "Requirement already satisfied: blinker>=1.0.0 in c:\\annaconda\\lib\\site-packages (from streamlit) (1.5)\n",
      "Requirement already satisfied: typing-extensions>=3.10.0.0 in c:\\annaconda\\lib\\site-packages (from streamlit) (4.3.0)\n",
      "Requirement already satisfied: validators>=0.2 in c:\\annaconda\\lib\\site-packages (from streamlit) (0.20.0)\n",
      "Requirement already satisfied: pydeck>=0.1.dev5 in c:\\annaconda\\lib\\site-packages (from streamlit) (0.8.0)\n",
      "Requirement already satisfied: pyarrow>=4.0 in c:\\annaconda\\lib\\site-packages (from streamlit) (11.0.0)\n",
      "Requirement already satisfied: pandas>=0.21.0 in c:\\annaconda\\lib\\site-packages (from streamlit) (1.4.4)\n",
      "Requirement already satisfied: importlib-metadata>=1.4 in c:\\annaconda\\lib\\site-packages (from streamlit) (4.11.3)\n",
      "Requirement already satisfied: click>=7.0 in c:\\annaconda\\lib\\site-packages (from streamlit) (8.0.4)\n",
      "Requirement already satisfied: altair>=3.2.0 in c:\\annaconda\\lib\\site-packages (from streamlit) (4.2.2)\n",
      "Requirement already satisfied: tzlocal>=1.1 in c:\\annaconda\\lib\\site-packages (from streamlit) (4.2)\n",
      "Requirement already satisfied: python-dateutil in c:\\annaconda\\lib\\site-packages (from streamlit) (2.8.2)\n",
      "Requirement already satisfied: semver in c:\\annaconda\\lib\\site-packages (from streamlit) (2.13.0)\n",
      "Requirement already satisfied: gitpython!=3.1.19 in c:\\annaconda\\lib\\site-packages (from streamlit) (3.1.30)\n",
      "Requirement already satisfied: tornado>=5.0 in c:\\annaconda\\lib\\site-packages (from streamlit) (6.1)\n",
      "Requirement already satisfied: pillow>=6.2.0 in c:\\annaconda\\lib\\site-packages (from streamlit) (9.2.0)\n",
      "Requirement already satisfied: packaging>=14.1 in c:\\annaconda\\lib\\site-packages (from streamlit) (21.3)\n",
      "Requirement already satisfied: rich>=10.11.0 in c:\\annaconda\\lib\\site-packages (from streamlit) (13.3.1)\n",
      "Requirement already satisfied: requests>=2.4 in c:\\annaconda\\lib\\site-packages (from streamlit) (2.28.1)\n",
      "Requirement already satisfied: numpy in c:\\annaconda\\lib\\site-packages (from streamlit) (1.21.5)\n",
      "Requirement already satisfied: watchdog in c:\\annaconda\\lib\\site-packages (from streamlit) (2.1.6)\n",
      "Requirement already satisfied: protobuf<4,>=3.12 in c:\\annaconda\\lib\\site-packages (from streamlit) (3.19.6)\n",
      "Requirement already satisfied: pympler>=0.9 in c:\\annaconda\\lib\\site-packages (from streamlit) (1.0.1)\n",
      "Requirement already satisfied: toml in c:\\annaconda\\lib\\site-packages (from streamlit) (0.10.2)\n",
      "Requirement already satisfied: cachetools>=4.0 in c:\\annaconda\\lib\\site-packages (from streamlit) (5.3.0)\n",
      "Requirement already satisfied: toolz in c:\\annaconda\\lib\\site-packages (from altair>=3.2.0->streamlit) (0.11.2)\n",
      "Requirement already satisfied: entrypoints in c:\\annaconda\\lib\\site-packages (from altair>=3.2.0->streamlit) (0.4)\n",
      "Requirement already satisfied: jinja2 in c:\\annaconda\\lib\\site-packages (from altair>=3.2.0->streamlit) (2.11.3)\n",
      "Requirement already satisfied: jsonschema>=3.0 in c:\\annaconda\\lib\\site-packages (from altair>=3.2.0->streamlit) (4.16.0)\n",
      "Requirement already satisfied: colorama in c:\\annaconda\\lib\\site-packages (from click>=7.0->streamlit) (0.4.6)\n",
      "Requirement already satisfied: gitdb<5,>=4.0.1 in c:\\annaconda\\lib\\site-packages (from gitpython!=3.1.19->streamlit) (4.0.10)\n",
      "Requirement already satisfied: zipp>=0.5 in c:\\annaconda\\lib\\site-packages (from importlib-metadata>=1.4->streamlit) (3.8.0)\n",
      "Requirement already satisfied: pyparsing!=3.0.5,>=2.0.2 in c:\\annaconda\\lib\\site-packages (from packaging>=14.1->streamlit) (3.0.9)\n",
      "Requirement already satisfied: pytz>=2020.1 in c:\\annaconda\\lib\\site-packages (from pandas>=0.21.0->streamlit) (2022.1)\n",
      "Requirement already satisfied: six>=1.5 in c:\\annaconda\\lib\\site-packages (from python-dateutil->streamlit) (1.16.0)\n",
      "Requirement already satisfied: certifi>=2017.4.17 in c:\\annaconda\\lib\\site-packages (from requests>=2.4->streamlit) (2022.9.14)\n",
      "Requirement already satisfied: charset-normalizer<3,>=2 in c:\\annaconda\\lib\\site-packages (from requests>=2.4->streamlit) (2.0.4)\n",
      "Requirement already satisfied: urllib3<1.27,>=1.21.1 in c:\\annaconda\\lib\\site-packages (from requests>=2.4->streamlit) (1.26.11)\n",
      "Requirement already satisfied: idna<4,>=2.5 in c:\\annaconda\\lib\\site-packages (from requests>=2.4->streamlit) (3.3)\n",
      "Requirement already satisfied: pygments<3.0.0,>=2.14.0 in c:\\annaconda\\lib\\site-packages (from rich>=10.11.0->streamlit) (2.14.0)\n",
      "Requirement already satisfied: markdown-it-py<3.0.0,>=2.1.0 in c:\\annaconda\\lib\\site-packages (from rich>=10.11.0->streamlit) (2.1.0)\n",
      "Requirement already satisfied: pytz-deprecation-shim in c:\\annaconda\\lib\\site-packages (from tzlocal>=1.1->streamlit) (0.1.0.post0)\n",
      "Requirement already satisfied: tzdata in c:\\annaconda\\lib\\site-packages (from tzlocal>=1.1->streamlit) (2022.7)\n",
      "Requirement already satisfied: decorator>=3.4.0 in c:\\annaconda\\lib\\site-packages (from validators>=0.2->streamlit) (5.1.1)\n",
      "Requirement already satisfied: smmap<6,>=3.0.1 in c:\\annaconda\\lib\\site-packages (from gitdb<5,>=4.0.1->gitpython!=3.1.19->streamlit) (5.0.0)\n",
      "Requirement already satisfied: MarkupSafe>=0.23 in c:\\annaconda\\lib\\site-packages (from jinja2->altair>=3.2.0->streamlit) (2.0.1)\n",
      "Requirement already satisfied: pyrsistent!=0.17.0,!=0.17.1,!=0.17.2,>=0.14.0 in c:\\annaconda\\lib\\site-packages (from jsonschema>=3.0->altair>=3.2.0->streamlit) (0.18.0)\n",
      "Requirement already satisfied: attrs>=17.4.0 in c:\\annaconda\\lib\\site-packages (from jsonschema>=3.0->altair>=3.2.0->streamlit) (21.4.0)\n",
      "Requirement already satisfied: mdurl~=0.1 in c:\\annaconda\\lib\\site-packages (from markdown-it-py<3.0.0,>=2.1.0->rich>=10.11.0->streamlit) (0.1.2)\n"
     ]
    }
   ],
   "source": [
    "!pip install streamlit \n"
   ]
  },
  {
   "cell_type": "code",
   "execution_count": null,
   "id": "dd212c2b",
   "metadata": {},
   "outputs": [],
   "source": []
  }
 ],
 "metadata": {
  "kernelspec": {
   "display_name": "Python 3 (ipykernel)",
   "language": "python",
   "name": "python3"
  },
  "language_info": {
   "codemirror_mode": {
    "name": "ipython",
    "version": 3
   },
   "file_extension": ".py",
   "mimetype": "text/x-python",
   "name": "python",
   "nbconvert_exporter": "python",
   "pygments_lexer": "ipython3",
   "version": "3.9.13"
  }
 },
 "nbformat": 4,
 "nbformat_minor": 5
}
